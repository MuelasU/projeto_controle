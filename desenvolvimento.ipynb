{
 "cells": [
  {
   "cell_type": "code",
   "execution_count": 1,
   "metadata": {},
   "outputs": [],
   "source": [
    "import os"
   ]
  },
  {
   "cell_type": "code",
   "execution_count": 3,
   "metadata": {},
   "outputs": [
    {
     "data": {
      "text/plain": [
       "0"
      ]
     },
     "execution_count": 3,
     "metadata": {},
     "output_type": "execute_result"
    }
   ],
   "source": [
    "os.system(\"pandoc -o relatorio_part1.pdf relatório.md\")"
   ]
  },
  {
   "cell_type": "markdown",
   "metadata": {},
   "source": [
    "### Referencias\n",
    "- sympy: https://www.youtube.com/playlist?list=PLHwXkLexR9MDJewziHzhHcEKUg4VRwUFq"
   ]
  },
  {
   "cell_type": "code",
   "execution_count": 1,
   "metadata": {},
   "outputs": [],
   "source": [
    "# from control import *\n",
    "from sympy import *"
   ]
  },
  {
   "cell_type": "code",
   "execution_count": 2,
   "metadata": {},
   "outputs": [],
   "source": [
    "s = symbols(\"s\")\n",
    "\n",
    "L0, L1, a, m, ie, k, R, g = symbols(\"L_0 L_1 a m i_e k R g\")"
   ]
  },
  {
   "cell_type": "code",
   "execution_count": 3,
   "metadata": {},
   "outputs": [
    {
     "data": {
      "text/latex": [
       "$\\displaystyle \\left[\\begin{matrix}0 & 1 & 0\\\\\\frac{L_{0} i_{e}^{2}}{a^{2} m} & - \\frac{k}{m} & - \\frac{L_{0} i_{e}}{a m}\\\\0 & \\frac{L_{0} i_{e}}{a \\left(L_{0} + L_{1}\\right)} & - \\frac{R}{L_{0} + L_{1}}\\end{matrix}\\right]$"
      ],
      "text/plain": [
       "Matrix([\n",
       "[                  0,                       1,              0],\n",
       "[L_0*i_e**2/(a**2*m),                    -k/m, -L_0*i_e/(a*m)],\n",
       "[                  0, L_0*i_e/(a*(L_0 + L_1)), -R/(L_0 + L_1)]])"
      ]
     },
     "execution_count": 3,
     "metadata": {},
     "output_type": "execute_result"
    }
   ],
   "source": [
    "A = Matrix([[0, 1, 0],\n",
    "            [L0*ie**2/(m*a**2), -k/m, -L0*ie/(m*a)],\n",
    "            [0, L0*ie/((L0+L1)*a), -R/(L0+L1)]])\n",
    "B = Matrix([0, 0, -1/(L0+L1)])\n",
    "C = Matrix([[1,0,0]])\n",
    "D = zeros(1)\n",
    "\n",
    "A"
   ]
  },
  {
   "cell_type": "code",
   "execution_count": 5,
   "metadata": {},
   "outputs": [
    {
     "name": "stdout",
     "output_type": "stream",
     "text": [
      "\\left[\\begin{matrix}- \\frac{- L_{0}^{2} a i_{e} - L_{0} L_{1} a i_{e}}{\\left(L_{0} + L_{1}\\right) \\left(- L_{0} L_{1} i_{e}^{2} s - L_{0} R i_{e}^{2} + L_{0} a^{2} k s^{2} + L_{0} a^{2} m s^{3} + L_{1} a^{2} k s^{2} + L_{1} a^{2} m s^{3} + R a^{2} k s + R a^{2} m s^{2}\\right)}\\end{matrix}\\right]\n"
     ]
    },
    {
     "data": {
      "text/latex": [
       "$\\displaystyle \\left[\\begin{matrix}- \\frac{- L_{0}^{2} a i_{e} - L_{0} L_{1} a i_{e}}{\\left(L_{0} + L_{1}\\right) \\left(- L_{0} L_{1} i_{e}^{2} s - L_{0} R i_{e}^{2} + L_{0} a^{2} k s^{2} + L_{0} a^{2} m s^{3} + L_{1} a^{2} k s^{2} + L_{1} a^{2} m s^{3} + R a^{2} k s + R a^{2} m s^{2}\\right)}\\end{matrix}\\right]$"
      ],
      "text/plain": [
       "Matrix([[-(-L_0**2*a*i_e - L_0*L_1*a*i_e)/((L_0 + L_1)*(-L_0*L_1*i_e**2*s - L_0*R*i_e**2 + L_0*a**2*k*s**2 + L_0*a**2*m*s**3 + L_1*a**2*k*s**2 + L_1*a**2*m*s**3 + R*a**2*k*s + R*a**2*m*s**2))]])"
      ]
     },
     "execution_count": 5,
     "metadata": {},
     "output_type": "execute_result"
    }
   ],
   "source": [
    "G = C*(s*eye(3) - A)**(-1)*B + D\n",
    "print(latex(G))\n",
    "G"
   ]
  },
  {
   "cell_type": "code",
   "execution_count": 6,
   "metadata": {},
   "outputs": [
    {
     "data": {
      "text/latex": [
       "$\\displaystyle \\left[\\begin{matrix}0 & 1 & 0\\\\392.4 & -0.04 & - 6.26418390534633 \\sqrt{2}\\\\0 & 22.3720853762369 \\sqrt{2} & -100.0\\end{matrix}\\right]$"
      ],
      "text/plain": [
       "Matrix([\n",
       "[    0,                        1,                         0],\n",
       "[392.4,                    -0.04, -6.26418390534633*sqrt(2)],\n",
       "[    0, 22.3720853762369*sqrt(2),                    -100.0]])"
      ]
     },
     "execution_count": 6,
     "metadata": {},
     "output_type": "execute_result"
    }
   ],
   "source": [
    "ie_res = sqrt(2*a*m*g/L0)\n",
    "A_eval = A.subs(ie, ie_res).subs(\n",
    "    {m: 0.25, k: 10E-3, L0: 0.05, L1: 0.02, g: 9.81, a: 0.05, R: 7}\n",
    ")\n",
    "A_eval"
   ]
  },
  {
   "cell_type": "code",
   "execution_count": 7,
   "metadata": {},
   "outputs": [
    {
     "data": {
      "text/plain": [
       "{18.6442731736439: 1, -21.7014478319848: 1, -96.9828253416591: 1}"
      ]
     },
     "execution_count": 7,
     "metadata": {},
     "output_type": "execute_result"
    }
   ],
   "source": [
    "A_eval.eigenvals()\n",
    "# If all of the eigenvalues are negative, then the system is stable; if any single eigenvalue is positive, the system is unstable."
   ]
  }
 ],
 "metadata": {
  "kernelspec": {
   "display_name": "Python 3.8.13 ('es607')",
   "language": "python",
   "name": "python3"
  },
  "language_info": {
   "codemirror_mode": {
    "name": "ipython",
    "version": 3
   },
   "file_extension": ".py",
   "mimetype": "text/x-python",
   "name": "python",
   "nbconvert_exporter": "python",
   "pygments_lexer": "ipython3",
   "version": "3.8.13"
  },
  "orig_nbformat": 4,
  "vscode": {
   "interpreter": {
    "hash": "a53e8aaf2a26e6f8a520f29111029221f589a80e627cfad5afcf627068fbb9d5"
   }
  }
 },
 "nbformat": 4,
 "nbformat_minor": 2
}
